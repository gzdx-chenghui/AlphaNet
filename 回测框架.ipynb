{
 "cells": [
  {
   "cell_type": "markdown",
   "id": "7ebbf019-3ef3-406b-9220-170698f9d6b2",
   "metadata": {},
   "source": [
    "# 回测框架"
   ]
  },
  {
   "cell_type": "code",
   "execution_count": 2,
   "id": "67334adc-0d0a-45ec-8f4c-704847f46f1a",
   "metadata": {},
   "outputs": [],
   "source": [
    "import numpy as np\n",
    "import pandas as pd\n",
    "from tqdm import tqdm\n",
    "\n",
    "import torch\n",
    "import torch.nn as nn\n",
    "import torch.optim as optim\n",
    "import torch.nn.functional as F\n",
    "from audtorch.metrics.functional import pearsonr\n",
    "from torch.utils.data import DataLoader, Dataset"
   ]
  },
  {
   "cell_type": "code",
   "execution_count": 3,
   "id": "82e489af-22d3-47e3-9934-d65ae010101a",
   "metadata": {},
   "outputs": [
    {
     "name": "stdout",
     "output_type": "stream",
     "text": [
      "Using CPU.\n"
     ]
    }
   ],
   "source": [
    "# 设置设备\n",
    "# 因为特征提取层的计算无法完全矩阵化，使用CPU训练更快\n",
    "\n",
    "device = torch.device(\"cpu\")\n",
    "print(\"Using CPU.\")"
   ]
  },
  {
   "cell_type": "markdown",
   "id": "8e731bb6-b42a-4159-a71f-341dbe0f8a05",
   "metadata": {},
   "source": [
    "## 数据准备"
   ]
  },
  {
   "cell_type": "code",
   "execution_count": 4,
   "id": "7efccda8-3472-4f76-8d22-8b2365fb1037",
   "metadata": {},
   "outputs": [
    {
     "name": "stdout",
     "output_type": "stream",
     "text": [
      "Shape of X:  (105637, 15, 30)\n",
      "Shape of Y:  (105637,)\n"
     ]
    }
   ],
   "source": [
    "# 导入数据\n",
    "X = np.load('X_fe.npy')\n",
    "Y = np.load('Y_fe_norm.npy')\n",
    "dates = np.load('Y_dates.npy')\n",
    "\n",
    "print('Shape of X: ', X.shape)\n",
    "print('Shape of Y: ', Y.shape)"
   ]
  },
  {
   "cell_type": "code",
   "execution_count": 5,
   "id": "f006a114-5f5a-4361-952b-abbd91ebb2d5",
   "metadata": {},
   "outputs": [],
   "source": [
    "class myDataset(Dataset):\n",
    "    '''\n",
    "    自定义数据集，将原始数据从 numpy arrays 转换成 float 格式的 tensors\n",
    "    '''\n",
    "    \n",
    "    def __init__(self, X, y):\n",
    "        super(myDataset, self).__init__()\n",
    "        self.X = torch.tensor(X).float()\n",
    "        self.y = torch.tensor(y).float()\n",
    "\n",
    "    def __len__(self):\n",
    "        return len(self.X)\n",
    "\n",
    "    def __getitem__(self, idx):\n",
    "        return self.X[idx], self.y[idx]"
   ]
  },
  {
   "cell_type": "code",
   "execution_count": 6,
   "id": "6b95983b-83b4-48a5-a5ac-3ee2358df5b5",
   "metadata": {},
   "outputs": [],
   "source": [
    "from datetime import datetime, timedelta\n",
    "\n",
    "# 获取所有标签对应的日期 target_dates 以及数据集中所有不重复的日期 unique_dates\n",
    "target_dates = np.array([datetime.strptime(str(date), '%Y-%m-%d').date() for date in dates])\n",
    "unique_dates = sorted(np.unique(target_dates))"
   ]
  },
  {
   "cell_type": "code",
   "execution_count": 7,
   "id": "cb8ff783",
   "metadata": {},
   "outputs": [
    {
     "data": {
      "text/plain": [
       "[0, 126, 252, 378, 504, 630]"
      ]
     },
     "execution_count": 7,
     "metadata": {},
     "output_type": "execute_result"
    }
   ],
   "source": [
    "# 从2011.01.31开始到2023.05.31，每隔半年滚动训练（测试集为半年126个交易日）\n",
    "# 每次训练数据量为1500个交易日，其中80%是训练集，20%是验证集\n",
    "start_dates = []\n",
    "starts, ends = [], []\n",
    "\n",
    "# 找出所有的训练区间，以便后续划分数据集\n",
    "i, start, end = 0, 0, 0\n",
    "while i + 1200 + 300 + 126 <= len(unique_dates):\n",
    "    start_dates.append(i)\n",
    "    start = sum(target_dates < unique_dates[i])\n",
    "    starts.append(start)\n",
    "    end = sum(target_dates < unique_dates[i+1200+300+126])\n",
    "    ends.append(end)\n",
    "    i += 126\n",
    "\n",
    "# 总共有6个训练区间，模型会在6个数据集上滚动训练\n",
    "start_dates"
   ]
  },
  {
   "cell_type": "markdown",
   "id": "216abdb9-f8e8-4a75-9c51-366dbc1516c1",
   "metadata": {},
   "source": [
    "## 模型"
   ]
  },
  {
   "cell_type": "code",
   "execution_count": 8,
   "id": "5b1e0222",
   "metadata": {},
   "outputs": [],
   "source": [
    "from models import *"
   ]
  },
  {
   "cell_type": "code",
   "execution_count": 9,
   "id": "40b0d7c8-634c-4253-8bee-0644d4e82df5",
   "metadata": {
    "jupyter": {
     "source_hidden": true
    },
    "tags": []
   },
   "outputs": [],
   "source": [
    "# 保存模型参数到本地\n",
    "def save_model(model, name):\n",
    "    torch.save(model.state_dict(), name)\n",
    "\n",
    "# 从本地导入模型参数\n",
    "def load_model(model, name):\n",
    "    weights = torch.load(name)\n",
    "    model.load_state_dict(weights)"
   ]
  },
  {
   "cell_type": "markdown",
   "id": "64de8b01",
   "metadata": {},
   "source": [
    "## 测试"
   ]
  },
  {
   "cell_type": "code",
   "execution_count": 11,
   "id": "0dbeb4b7",
   "metadata": {},
   "outputs": [
    {
     "data": {
      "text/plain": [
       "tensor([[  0.3005],\n",
       "        [  0.9618],\n",
       "        [  3.8817],\n",
       "        [-18.4275],\n",
       "        [  4.1892]], grad_fn=<AddmmBackward0>)"
      ]
     },
     "execution_count": 11,
     "metadata": {},
     "output_type": "execute_result"
    }
   ],
   "source": [
    "# 用小量数据测试模型是否能正常工作\n",
    "net = AlphaNet_v2(d=10, stride=10, n=15)\n",
    "net(torch.tensor(X[:5]).float())"
   ]
  },
  {
   "cell_type": "markdown",
   "id": "b3a91cc9-8861-4acf-bf71-1a5af8c0512d",
   "metadata": {},
   "source": [
    "## 单因子回测"
   ]
  },
  {
   "cell_type": "markdown",
   "id": "c62c39d7-0aed-43bd-bae7-6fa68e373709",
   "metadata": {},
   "source": [
    "**RankIC（Rank Information Coefficient）** 是用来衡量选股因子与股票收益排名之间的相关性的指标，从而评估以选股因子的有效性和稳定性。\n",
    "\n",
    "计算选股因子的RankIC的一般步骤如下：\n",
    "\n",
    "1. 对于每个时间点，根据选股因子的值对股票进行排名，得到每个股票在因子上的排名值\n",
    "\n",
    "2. 对于每个时间点，根据股票的实际收益对股票进行排名，得到每个股票在收益上的排名值\n",
    "\n",
    "3. 计算因子排名和收益排名之间的相关性，可以使用：\n",
    "\n",
    "   - 秩相关系数（Spearman's rank correlation coefficient）\n",
    "   - 皮尔逊相关系数（Pearson correlation coefficient）\n",
    "   \n",
    "   \n",
    "4. 对所有时间点的RankIC进行统计分析，例如：计算平均值、标准差、假设检验等"
   ]
  },
  {
   "cell_type": "markdown",
   "id": "c299b651-d07d-4ec0-98b6-b0f375b1a0c5",
   "metadata": {},
   "source": [
    "**IC_IR（Information Coefficient Information Ratio）**是一种用于评估选股模型的指标，结合了选股因子的RankIC和预测准确性。\n",
    "\n",
    "IC_IR的计算方法如下：\n",
    "\n",
    "1. 算选股因子的RankIC\n",
    "\n",
    "2. 计算因子的平均IC：将每个时间点的RankIC取平均，得到选股因子的平均IC\n",
    "\n",
    "3. 计算因子的IC标准差：计算RankIC的标准差，衡量选股因子在不同时间点上的波动性\n",
    "\n",
    "4. 计算IC_IR：IC_IR = mean(IC) / std(IC)\n",
    "\n",
    "IC_IR的值越高，表示选股因子的选股能力越强，具有更高的预测准确性和稳定性。"
   ]
  },
  {
   "cell_type": "code",
   "execution_count": 11,
   "id": "fd6dea24-ba1e-4388-92c7-68cb1a1b50fa",
   "metadata": {},
   "outputs": [],
   "source": [
    "import scipy.stats as stats\n",
    "\n",
    "def compute_RankIC(X, Y, model, target_dates):\n",
    "    \n",
    "    results = []\n",
    "    unique_dates = np.unique(target_dates)\n",
    "    \n",
    "    # 针对每个目标日期，对比当天真的股票收益率排名和预测的排名\n",
    "    for date in tqdm(unique_dates):\n",
    "        \n",
    "        # 获取当日所有股票的信息\n",
    "        idx = np.where(target_dates==date)[0]\n",
    "        \n",
    "        # 当日小于20支股票，跳过该日\n",
    "        if len(idx) < 20:\n",
    "            continue\n",
    "        \n",
    "        # 预测个股收益率值\n",
    "        model.eval()\n",
    "        y_preds = -model(torch.tensor(X[idx]).float()).squeeze().detach().numpy()\n",
    "        \n",
    "        # 计算排名\n",
    "        y_rank = np.argsort(Y[idx]).argsort() + 1\n",
    "        y_pred_rank = np.argsort(y_preds).argsort() + 1\n",
    "        \n",
    "        # 计算排名之间的相关度\n",
    "        correlation, _ = stats.spearmanr(y_rank, y_pred_rank)\n",
    "        results.append(correlation)\n",
    "        \n",
    "    return np.array(results)"
   ]
  },
  {
   "cell_type": "code",
   "execution_count": null,
   "id": "99917bd1-3db8-43d2-b4e4-ed0c4b2f0931",
   "metadata": {},
   "outputs": [],
   "source": [
    "import pickle\n",
    "\n",
    "results = []\n",
    "\n",
    "# 选择模型：'alphanet_v2'，'alphanet_att'，'alphanet_v2_fe'\n",
    "model_name = 'alphanet_v2'\n",
    "\n",
    "cnt = 0\n",
    "\n",
    "# 使用每个训练区间的最佳模型，来预测对应区间测试集的收益率，计算IC值\n",
    "for start, end in zip(starts, ends):\n",
    "    \n",
    "    # 导入模型\n",
    "    model_path = 'Models/' + model_name + '_' + str(cnt) + '.pt'\n",
    "    net = AlphaNet_v2(d=10, stride=10, n=15)\n",
    "    load_model(net, model_path)\n",
    "    \n",
    "    # 预测 + 验证\n",
    "    n = end - start\n",
    "    test_res = compute_RankIC(X[start+int(n*12/13):end], Y[start+int(n*12/13):end], net, target_dates[start+int(n*12/13):end])\n",
    "    \n",
    "    print(model_path,\n",
    "          round(100*np.mean(test_res), 2), \n",
    "          round(100*np.std(test_res), 2), \n",
    "          round(np.mean(test_res)/np.std(test_res), 4), \n",
    "          round(100* sum(test_res > 0) / len(test_res), 2))\n",
    "    \n",
    "    results.append(test_res)\n",
    "\n",
    "    with open('test_results_v2.pickle', 'wb') as f:\n",
    "        pickle.dump(results, f)\n",
    "    \n",
    "    cnt += 1"
   ]
  }
 ],
 "metadata": {
  "kernelspec": {
   "display_name": "Python 3 (ipykernel)",
   "language": "python",
   "name": "python3"
  },
  "language_info": {
   "codemirror_mode": {
    "name": "ipython",
    "version": 3
   },
   "file_extension": ".py",
   "mimetype": "text/x-python",
   "name": "python",
   "nbconvert_exporter": "python",
   "pygments_lexer": "ipython3",
   "version": "3.9.13"
  }
 },
 "nbformat": 4,
 "nbformat_minor": 5
}
