{
 "cells": [
  {
   "cell_type": "markdown",
   "id": "b70def56",
   "metadata": {},
   "source": [
    "# 构建数据集"
   ]
  },
  {
   "cell_type": "code",
   "execution_count": 2,
   "id": "c9cd9930",
   "metadata": {},
   "outputs": [],
   "source": [
    "import os\n",
    "import numpy as np\n",
    "import pandas as pd\n",
    "from tqdm import tqdm\n",
    "\n",
    "import seaborn as sns\n",
    "import matplotlib.pyplot as plt"
   ]
  },
  {
   "cell_type": "markdown",
   "id": "be3bd896",
   "metadata": {},
   "source": [
    "## 导入数据"
   ]
  },
  {
   "cell_type": "code",
   "execution_count": 7,
   "id": "f48f0f38",
   "metadata": {
    "scrolled": true
   },
   "outputs": [
    {
     "data": {
      "text/html": [
       "<div>\n",
       "<style scoped>\n",
       "    .dataframe tbody tr th:only-of-type {\n",
       "        vertical-align: middle;\n",
       "    }\n",
       "\n",
       "    .dataframe tbody tr th {\n",
       "        vertical-align: top;\n",
       "    }\n",
       "\n",
       "    .dataframe thead th {\n",
       "        text-align: right;\n",
       "    }\n",
       "</style>\n",
       "<table border=\"1\" class=\"dataframe\">\n",
       "  <thead>\n",
       "    <tr style=\"text-align: right;\">\n",
       "      <th></th>\n",
       "      <th>code</th>\n",
       "      <th>date</th>\n",
       "      <th>open</th>\n",
       "      <th>close</th>\n",
       "      <th>high</th>\n",
       "      <th>low</th>\n",
       "      <th>volumn</th>\n",
       "      <th>vwap</th>\n",
       "      <th>return</th>\n",
       "      <th>turn</th>\n",
       "      <th>free_turn</th>\n",
       "    </tr>\n",
       "  </thead>\n",
       "  <tbody>\n",
       "    <tr>\n",
       "      <th>0</th>\n",
       "      <td>300581.SZ</td>\n",
       "      <td>2019-11-20</td>\n",
       "      <td>16.09</td>\n",
       "      <td>15.38</td>\n",
       "      <td>16.09</td>\n",
       "      <td>15.31</td>\n",
       "      <td>53958.70</td>\n",
       "      <td>15.6799</td>\n",
       "      <td>-4.3532</td>\n",
       "      <td>9.0444</td>\n",
       "      <td>10.6291</td>\n",
       "    </tr>\n",
       "    <tr>\n",
       "      <th>1</th>\n",
       "      <td>300591.SZ</td>\n",
       "      <td>2019-11-20</td>\n",
       "      <td>5.54</td>\n",
       "      <td>5.55</td>\n",
       "      <td>5.59</td>\n",
       "      <td>5.50</td>\n",
       "      <td>33148.60</td>\n",
       "      <td>5.5534</td>\n",
       "      <td>0.3617</td>\n",
       "      <td>2.8976</td>\n",
       "      <td>3.3202</td>\n",
       "    </tr>\n",
       "    <tr>\n",
       "      <th>2</th>\n",
       "      <td>300617.SZ</td>\n",
       "      <td>2019-11-20</td>\n",
       "      <td>20.94</td>\n",
       "      <td>21.02</td>\n",
       "      <td>21.25</td>\n",
       "      <td>20.94</td>\n",
       "      <td>2288.74</td>\n",
       "      <td>21.1140</td>\n",
       "      <td>-0.5206</td>\n",
       "      <td>0.6235</td>\n",
       "      <td>0.7071</td>\n",
       "    </tr>\n",
       "    <tr>\n",
       "      <th>3</th>\n",
       "      <td>300623.SZ</td>\n",
       "      <td>2019-11-20</td>\n",
       "      <td>22.34</td>\n",
       "      <td>22.27</td>\n",
       "      <td>22.65</td>\n",
       "      <td>22.08</td>\n",
       "      <td>92950.67</td>\n",
       "      <td>22.3585</td>\n",
       "      <td>-1.7644</td>\n",
       "      <td>8.7454</td>\n",
       "      <td>11.1543</td>\n",
       "    </tr>\n",
       "    <tr>\n",
       "      <th>4</th>\n",
       "      <td>300628.SZ</td>\n",
       "      <td>2019-11-20</td>\n",
       "      <td>72.50</td>\n",
       "      <td>72.75</td>\n",
       "      <td>73.23</td>\n",
       "      <td>71.81</td>\n",
       "      <td>26539.81</td>\n",
       "      <td>72.5632</td>\n",
       "      <td>0.5807</td>\n",
       "      <td>2.6711</td>\n",
       "      <td>2.6711</td>\n",
       "    </tr>\n",
       "  </tbody>\n",
       "</table>\n",
       "</div>"
      ],
      "text/plain": [
       "        code        date   open  close   high    low    volumn     vwap  \\\n",
       "0  300581.SZ  2019-11-20  16.09  15.38  16.09  15.31  53958.70  15.6799   \n",
       "1  300591.SZ  2019-11-20   5.54   5.55   5.59   5.50  33148.60   5.5534   \n",
       "2  300617.SZ  2019-11-20  20.94  21.02  21.25  20.94   2288.74  21.1140   \n",
       "3  300623.SZ  2019-11-20  22.34  22.27  22.65  22.08  92950.67  22.3585   \n",
       "4  300628.SZ  2019-11-20  72.50  72.75  73.23  71.81  26539.81  72.5632   \n",
       "\n",
       "   return    turn  free_turn  \n",
       "0 -4.3532  9.0444    10.6291  \n",
       "1  0.3617  2.8976     3.3202  \n",
       "2 -0.5206  0.6235     0.7071  \n",
       "3 -1.7644  8.7454    11.1543  \n",
       "4  0.5807  2.6711     2.6711  "
      ]
     },
     "execution_count": 7,
     "metadata": {},
     "output_type": "execute_result"
    }
   ],
   "source": [
    "# df_merged 是原始数据\n",
    "# df_merged_fe 是构建了比率类特征的数据\n",
    "# df_merged_fe1 是构建了比率类和均值因子特征的数据\n",
    "\n",
    "file_name = 'df_merged.csv'\n",
    "df_merged = pd.read_csv(file_name)\n",
    "df_merged.head()"
   ]
  },
  {
   "cell_type": "markdown",
   "id": "b213a24a",
   "metadata": {},
   "source": [
    "## 数据概况"
   ]
  },
  {
   "cell_type": "code",
   "execution_count": 8,
   "id": "c703cfb4",
   "metadata": {},
   "outputs": [
    {
     "data": {
      "text/plain": [
       "(1098484, 11)"
      ]
     },
     "execution_count": 8,
     "metadata": {},
     "output_type": "execute_result"
    }
   ],
   "source": [
    "df_merged.shape"
   ]
  },
  {
   "cell_type": "code",
   "execution_count": 9,
   "id": "60ed54fe",
   "metadata": {},
   "outputs": [],
   "source": [
    "# df_merged.info()"
   ]
  },
  {
   "cell_type": "code",
   "execution_count": 10,
   "id": "e9d19122",
   "metadata": {
    "scrolled": true
   },
   "outputs": [
    {
     "data": {
      "text/html": [
       "<div>\n",
       "<style scoped>\n",
       "    .dataframe tbody tr th:only-of-type {\n",
       "        vertical-align: middle;\n",
       "    }\n",
       "\n",
       "    .dataframe tbody tr th {\n",
       "        vertical-align: top;\n",
       "    }\n",
       "\n",
       "    .dataframe thead th {\n",
       "        text-align: right;\n",
       "    }\n",
       "</style>\n",
       "<table border=\"1\" class=\"dataframe\">\n",
       "  <thead>\n",
       "    <tr style=\"text-align: right;\">\n",
       "      <th></th>\n",
       "      <th>open</th>\n",
       "      <th>close</th>\n",
       "      <th>high</th>\n",
       "      <th>low</th>\n",
       "      <th>volumn</th>\n",
       "      <th>vwap</th>\n",
       "      <th>return</th>\n",
       "      <th>turn</th>\n",
       "      <th>free_turn</th>\n",
       "    </tr>\n",
       "  </thead>\n",
       "  <tbody>\n",
       "    <tr>\n",
       "      <th>count</th>\n",
       "      <td>1.0985e+06</td>\n",
       "      <td>1.0985e+06</td>\n",
       "      <td>1.0985e+06</td>\n",
       "      <td>1.0985e+06</td>\n",
       "      <td>1.0985e+06</td>\n",
       "      <td>1.0985e+06</td>\n",
       "      <td>1.0985e+06</td>\n",
       "      <td>1.0985e+06</td>\n",
       "      <td>1.0985e+06</td>\n",
       "    </tr>\n",
       "    <tr>\n",
       "      <th>mean</th>\n",
       "      <td>30.301</td>\n",
       "      <td>30.333</td>\n",
       "      <td>31.008</td>\n",
       "      <td>29.666</td>\n",
       "      <td>6.5452e+04</td>\n",
       "      <td>30.334</td>\n",
       "      <td>0.075548</td>\n",
       "      <td>4.2058</td>\n",
       "      <td>5.18</td>\n",
       "    </tr>\n",
       "    <tr>\n",
       "      <th>std</th>\n",
       "      <td>39.462</td>\n",
       "      <td>39.521</td>\n",
       "      <td>40.518</td>\n",
       "      <td>38.493</td>\n",
       "      <td>2.2686e+05</td>\n",
       "      <td>39.491</td>\n",
       "      <td>3.1062</td>\n",
       "      <td>6.4044</td>\n",
       "      <td>15.976</td>\n",
       "    </tr>\n",
       "    <tr>\n",
       "      <th>min</th>\n",
       "      <td>2.11</td>\n",
       "      <td>2.11</td>\n",
       "      <td>2.12</td>\n",
       "      <td>2.08</td>\n",
       "      <td>1.0</td>\n",
       "      <td>2.1098</td>\n",
       "      <td>-28.032</td>\n",
       "      <td>0.0005</td>\n",
       "      <td>-110.03</td>\n",
       "    </tr>\n",
       "    <tr>\n",
       "      <th>25%</th>\n",
       "      <td>12.57</td>\n",
       "      <td>12.58</td>\n",
       "      <td>12.82</td>\n",
       "      <td>12.35</td>\n",
       "      <td>1.1879e+04</td>\n",
       "      <td>12.585</td>\n",
       "      <td>-1.4936</td>\n",
       "      <td>0.9529</td>\n",
       "      <td>1.5241</td>\n",
       "    </tr>\n",
       "    <tr>\n",
       "      <th>50%</th>\n",
       "      <td>19.76</td>\n",
       "      <td>19.77</td>\n",
       "      <td>20.18</td>\n",
       "      <td>19.36</td>\n",
       "      <td>2.5022e+04</td>\n",
       "      <td>19.775</td>\n",
       "      <td>0.0</td>\n",
       "      <td>2.0644</td>\n",
       "      <td>2.8736</td>\n",
       "    </tr>\n",
       "    <tr>\n",
       "      <th>75%</th>\n",
       "      <td>33.68</td>\n",
       "      <td>33.71</td>\n",
       "      <td>34.46</td>\n",
       "      <td>33.0</td>\n",
       "      <td>5.5818e+04</td>\n",
       "      <td>33.718</td>\n",
       "      <td>1.4019</td>\n",
       "      <td>4.6326</td>\n",
       "      <td>5.7905</td>\n",
       "    </tr>\n",
       "    <tr>\n",
       "      <th>max</th>\n",
       "      <td>951.0</td>\n",
       "      <td>951.5</td>\n",
       "      <td>996.0</td>\n",
       "      <td>858.0</td>\n",
       "      <td>3.6453e+07</td>\n",
       "      <td>931.68</td>\n",
       "      <td>30.0</td>\n",
       "      <td>86.551</td>\n",
       "      <td>5605.0</td>\n",
       "    </tr>\n",
       "  </tbody>\n",
       "</table>\n",
       "</div>"
      ],
      "text/plain": [
       "            open      close       high        low     volumn       vwap  \\\n",
       "count 1.0985e+06 1.0985e+06 1.0985e+06 1.0985e+06 1.0985e+06 1.0985e+06   \n",
       "mean      30.301     30.333     31.008     29.666 6.5452e+04     30.334   \n",
       "std       39.462     39.521     40.518     38.493 2.2686e+05     39.491   \n",
       "min         2.11       2.11       2.12       2.08        1.0     2.1098   \n",
       "25%        12.57      12.58      12.82      12.35 1.1879e+04     12.585   \n",
       "50%        19.76      19.77      20.18      19.36 2.5022e+04     19.775   \n",
       "75%        33.68      33.71      34.46       33.0 5.5818e+04     33.718   \n",
       "max        951.0      951.5      996.0      858.0 3.6453e+07     931.68   \n",
       "\n",
       "          return       turn  free_turn  \n",
       "count 1.0985e+06 1.0985e+06 1.0985e+06  \n",
       "mean    0.075548     4.2058       5.18  \n",
       "std       3.1062     6.4044     15.976  \n",
       "min      -28.032     0.0005    -110.03  \n",
       "25%      -1.4936     0.9529     1.5241  \n",
       "50%          0.0     2.0644     2.8736  \n",
       "75%       1.4019     4.6326     5.7905  \n",
       "max         30.0     86.551     5605.0  "
      ]
     },
     "metadata": {},
     "output_type": "display_data"
    }
   ],
   "source": [
    "pd.set_option('display.float_format', '{:.5}'.format)\n",
    "display(df_merged.drop(['code', 'date'], axis=1).describe())\n",
    "pd.reset_option('display.float_format')"
   ]
  },
  {
   "cell_type": "markdown",
   "id": "3998a191",
   "metadata": {},
   "source": [
    "## 收益率"
   ]
  },
  {
   "cell_type": "code",
   "execution_count": 11,
   "id": "16f82490",
   "metadata": {},
   "outputs": [
    {
     "data": {
      "text/plain": [
       "count   1.0985e+06\n",
       "mean      0.075548\n",
       "std         3.1062\n",
       "min        -28.032\n",
       "25%        -1.4936\n",
       "50%            0.0\n",
       "75%         1.4019\n",
       "max           30.0\n",
       "Name: return, dtype: float64"
      ]
     },
     "metadata": {},
     "output_type": "display_data"
    }
   ],
   "source": [
    "pd.set_option('display.float_format', '{:.5}'.format)\n",
    "display(df_merged['return'].describe())\n",
    "pd.reset_option('display.float_format')"
   ]
  },
  {
   "cell_type": "code",
   "execution_count": 12,
   "id": "6313fac6",
   "metadata": {
    "scrolled": true
   },
   "outputs": [
    {
     "name": "stderr",
     "output_type": "stream",
     "text": [
      "/Users/ryanl/opt/anaconda3/lib/python3.9/site-packages/seaborn/distributions.py:2619: FutureWarning: `distplot` is a deprecated function and will be removed in a future version. Please adapt your code to use either `displot` (a figure-level function with similar flexibility) or `histplot` (an axes-level function for histograms).\n",
      "  warnings.warn(msg, FutureWarning)\n"
     ]
    },
    {
     "data": {
      "image/png": "[encoded data removed]",
      "text/plain": [
       "<Figure size 600x400 with 1 Axes>"
      ]
     },
     "metadata": {},
     "output_type": "display_data"
    },
    {
     "data": {
      "image/png": "[encoded data removed]",
      "text/plain": [
       "<Figure size 640x480 with 1 Axes>"
      ]
     },
     "metadata": {},
     "output_type": "display_data"
    }
   ],
   "source": [
    "from scipy import stats\n",
    "from scipy.stats import norm\n",
    "\n",
    "plt.figure(figsize=(6,4))\n",
    "sns.distplot(df_merged['return'], fit=norm)\n",
    "plt.plot()\n",
    "fig = plt.figure()\n",
    "res = stats.probplot(df_merged['return'], plot=plt)"
   ]
  },
  {
   "cell_type": "code",
   "execution_count": 13,
   "id": "1b8554ed",
   "metadata": {},
   "outputs": [
    {
     "name": "stdout",
     "output_type": "stream",
     "text": [
      "Skewness: 0.559080\n",
      "Kurtosis: 3.881802\n"
     ]
    }
   ],
   "source": [
    "print(\"Skewness: %f\" % df_merged['return'].skew())\n",
    "print(\"Kurtosis: %f\" % df_merged['return'].kurt())"
   ]
  },
  {
   "cell_type": "markdown",
   "id": "031e2a07",
   "metadata": {},
   "source": [
    "## 标准化特征"
   ]
  },
  {
   "cell_type": "code",
   "execution_count": 14,
   "id": "12dde6ee",
   "metadata": {},
   "outputs": [
    {
     "data": {
      "text/html": [
       "<div>\n",
       "<style scoped>\n",
       "    .dataframe tbody tr th:only-of-type {\n",
       "        vertical-align: middle;\n",
       "    }\n",
       "\n",
       "    .dataframe tbody tr th {\n",
       "        vertical-align: top;\n",
       "    }\n",
       "\n",
       "    .dataframe thead th {\n",
       "        text-align: right;\n",
       "    }\n",
       "</style>\n",
       "<table border=\"1\" class=\"dataframe\">\n",
       "  <thead>\n",
       "    <tr style=\"text-align: right;\">\n",
       "      <th></th>\n",
       "      <th>code</th>\n",
       "      <th>date</th>\n",
       "      <th>open</th>\n",
       "      <th>close</th>\n",
       "      <th>high</th>\n",
       "      <th>low</th>\n",
       "      <th>volumn</th>\n",
       "      <th>vwap</th>\n",
       "      <th>return</th>\n",
       "      <th>turn</th>\n",
       "      <th>free_turn</th>\n",
       "      <th>target</th>\n",
       "    </tr>\n",
       "  </thead>\n",
       "  <tbody>\n",
       "    <tr>\n",
       "      <th>0</th>\n",
       "      <td>300581.SZ</td>\n",
       "      <td>2019-11-20</td>\n",
       "      <td>-0.360131</td>\n",
       "      <td>-0.378343</td>\n",
       "      <td>-0.368181</td>\n",
       "      <td>-0.372960</td>\n",
       "      <td>-0.050663</td>\n",
       "      <td>-0.371060</td>\n",
       "      <td>-1.425764</td>\n",
       "      <td>0.755505</td>\n",
       "      <td>0.341083</td>\n",
       "      <td>-4.3532</td>\n",
       "    </tr>\n",
       "    <tr>\n",
       "      <th>1</th>\n",
       "      <td>300591.SZ</td>\n",
       "      <td>2019-11-20</td>\n",
       "      <td>-0.627479</td>\n",
       "      <td>-0.627069</td>\n",
       "      <td>-0.627327</td>\n",
       "      <td>-0.627814</td>\n",
       "      <td>-0.142394</td>\n",
       "      <td>-0.627484</td>\n",
       "      <td>0.092122</td>\n",
       "      <td>-0.204270</td>\n",
       "      <td>-0.116415</td>\n",
       "      <td>0.3617</td>\n",
       "    </tr>\n",
       "    <tr>\n",
       "      <th>2</th>\n",
       "      <td>300617.SZ</td>\n",
       "      <td>2019-11-20</td>\n",
       "      <td>-0.237228</td>\n",
       "      <td>-0.235636</td>\n",
       "      <td>-0.240829</td>\n",
       "      <td>-0.226698</td>\n",
       "      <td>-0.278424</td>\n",
       "      <td>-0.233458</td>\n",
       "      <td>-0.191920</td>\n",
       "      <td>-0.559353</td>\n",
       "      <td>-0.279981</td>\n",
       "      <td>-0.5206</td>\n",
       "    </tr>\n",
       "    <tr>\n",
       "      <th>3</th>\n",
       "      <td>300623.SZ</td>\n",
       "      <td>2019-11-20</td>\n",
       "      <td>-0.201750</td>\n",
       "      <td>-0.204007</td>\n",
       "      <td>-0.206276</td>\n",
       "      <td>-0.197082</td>\n",
       "      <td>0.121213</td>\n",
       "      <td>-0.201945</td>\n",
       "      <td>-0.592342</td>\n",
       "      <td>0.708818</td>\n",
       "      <td>0.373958</td>\n",
       "      <td>-1.7644</td>\n",
       "    </tr>\n",
       "    <tr>\n",
       "      <th>4</th>\n",
       "      <td>300628.SZ</td>\n",
       "      <td>2019-11-20</td>\n",
       "      <td>1.069355</td>\n",
       "      <td>1.073275</td>\n",
       "      <td>1.042067</td>\n",
       "      <td>1.094855</td>\n",
       "      <td>-0.171525</td>\n",
       "      <td>1.069339</td>\n",
       "      <td>0.162625</td>\n",
       "      <td>-0.239636</td>\n",
       "      <td>-0.157045</td>\n",
       "      <td>0.5807</td>\n",
       "    </tr>\n",
       "  </tbody>\n",
       "</table>\n",
       "</div>"
      ],
      "text/plain": [
       "        code        date      open     close      high       low    volumn  \\\n",
       "0  300581.SZ  2019-11-20 -0.360131 -0.378343 -0.368181 -0.372960 -0.050663   \n",
       "1  300591.SZ  2019-11-20 -0.627479 -0.627069 -0.627327 -0.627814 -0.142394   \n",
       "2  300617.SZ  2019-11-20 -0.237228 -0.235636 -0.240829 -0.226698 -0.278424   \n",
       "3  300623.SZ  2019-11-20 -0.201750 -0.204007 -0.206276 -0.197082  0.121213   \n",
       "4  300628.SZ  2019-11-20  1.069355  1.073275  1.042067  1.094855 -0.171525   \n",
       "\n",
       "       vwap    return      turn  free_turn  target  \n",
       "0 -0.371060 -1.425764  0.755505   0.341083 -4.3532  \n",
       "1 -0.627484  0.092122 -0.204270  -0.116415  0.3617  \n",
       "2 -0.233458 -0.191920 -0.559353  -0.279981 -0.5206  \n",
       "3 -0.201945 -0.592342  0.708818   0.373958 -1.7644  \n",
       "4  1.069339  0.162625 -0.239636  -0.157045  0.5807  "
      ]
     },
     "execution_count": 14,
     "metadata": {},
     "output_type": "execute_result"
    }
   ],
   "source": [
    "# 创建标签列，保留不变\n",
    "df_merged['target'] = df_merged['return']\n",
    "\n",
    "# 对每个特征分别进行归一化\n",
    "for feature in df_merged.columns[2:-1]:\n",
    "    df_merged[feature] = (df_merged[feature] - df_merged[feature].mean()) / df_merged[feature].std()\n",
    "\n",
    "df_merged.head()"
   ]
  },
  {
   "cell_type": "markdown",
   "id": "189862c1",
   "metadata": {},
   "source": [
    "## 构建特征图&标签"
   ]
  },
  {
   "cell_type": "markdown",
   "id": "2d5fc81a",
   "metadata": {},
   "source": [
    "每隔10个交易日采样（防止过于频繁的采样导致数据相似度太高）"
   ]
  },
  {
   "cell_type": "code",
   "execution_count": 15,
   "id": "072b32d0",
   "metadata": {
    "scrolled": false
   },
   "outputs": [
    {
     "name": "stderr",
     "output_type": "stream",
     "text": [
      "100%|███████████████████████████████████████| 1194/1194 [01:45<00:00, 11.28it/s]\n"
     ]
    },
    {
     "name": "stdout",
     "output_type": "stream",
     "text": [
      "Shape of X:  (105637, 9, 30)\n",
      "Shape of Y:  (105637,)\n",
      "Stocks with not enough data:  ['834261.BJ', '831304.BJ', '839792.BJ', '830896.BJ', '872895.BJ', '873593.BJ', '833394.BJ', '871694.BJ', '837006.BJ', '871478.BJ', '838837.BJ', '836699.BJ', '832471.BJ', '839719.BJ']\n"
     ]
    }
   ],
   "source": [
    "X, Y, Y_dates, empty = [], [], [], []\n",
    "\n",
    "\n",
    "for code in tqdm(df_merged['code'].unique()):\n",
    "    \n",
    "    x, y, dates = [], [], []\n",
    "    \n",
    "    # 每个个股单独采样\n",
    "    df = df_merged[df_merged['code']==code]\n",
    "    \n",
    "    i = 0\n",
    "    while i + 40 < len(df):\n",
    "        \n",
    "        # 标签对应的日期\n",
    "        date = df.iloc[i+40]['date']\n",
    "        dates.append(date)\n",
    "        \n",
    "        # 特征：30天的历史窗口，构建 ”数据图片“\n",
    "        window = df.iloc[i:i+30, 1:-1]\n",
    "        window.set_index('date', inplace=True)\n",
    "        window = window.transpose()\n",
    "        x.append(np.array(window))\n",
    "        \n",
    "        # 标签：第i+40天的收益率\n",
    "        y.append(df.iloc[i+40]['target'])\n",
    "        \n",
    "        # 每间隔10个交易日采样一次\n",
    "        i += 10\n",
    "    \n",
    "    # 如果该个股的数据不够，跳过\n",
    "    if not x or not y:\n",
    "        empty.append(code)\n",
    "        continue\n",
    "    \n",
    "    # 将该个股的所有的 样本-标签 组合加入到数据集中\n",
    "    x = np.stack(x)\n",
    "    y = np.stack(y)\n",
    "    y_dates = np.stack(dates)\n",
    "    X.append(x)\n",
    "    Y.append(y)\n",
    "    Y_dates.append(y_dates)\n",
    "\n",
    "\n",
    "# 根据标签日期对数据集进行排序\n",
    "Y_dates = np.concatenate(Y_dates, axis=0)\n",
    "order = np.argsort(Y_dates)\n",
    "X = np.concatenate(X, axis=0)[order]\n",
    "Y = np.concatenate(Y, axis=0)[order]\n",
    "Y_dates = Y_dates[order]\n",
    "\n",
    "print('Shape of X: ', X.shape)\n",
    "print('Shape of Y: ', Y.shape)\n",
    "print('Stocks with not enough data: ', empty)"
   ]
  },
  {
   "cell_type": "markdown",
   "id": "aaf51191",
   "metadata": {},
   "source": [
    "## 标签转换"
   ]
  },
  {
   "cell_type": "code",
   "execution_count": 45,
   "id": "ee1c826f",
   "metadata": {},
   "outputs": [
    {
     "name": "stderr",
     "output_type": "stream",
     "text": [
      "100%|██████████████████████████████████| 105637/105637 [01:59<00:00, 884.97it/s]\n"
     ]
    }
   ],
   "source": [
    "# 构建超额收益标签：判断个股在对应日期的收益率是否超过当天的市场均值，超过则标签为1，否则为0\n",
    "\n",
    "memo = {}\n",
    "Y_cls = []\n",
    "\n",
    "for i in tqdm(range(len(Y))):\n",
    "    \n",
    "    # 目标日期\n",
    "    date = Y_dates[i]\n",
    "    \n",
    "    # 获取当天的市场收益率均值\n",
    "    if date in memo:\n",
    "        avg = memo[date]\n",
    "    else:\n",
    "        avg = df_merged[df_merged['date']==date]['target'].mean()\n",
    "        memo[date] = avg\n",
    "    \n",
    "    # 判断标签取值\n",
    "    if Y[i] > avg:\n",
    "        Y_cls.append(1)\n",
    "    else:\n",
    "        Y_cls.append(0)"
   ]
  },
  {
   "cell_type": "code",
   "execution_count": 46,
   "id": "73068230",
   "metadata": {},
   "outputs": [
    {
     "data": {
      "text/plain": [
       "(105637,)"
      ]
     },
     "execution_count": 46,
     "metadata": {},
     "output_type": "execute_result"
    }
   ],
   "source": [
    "Y_cls = np.array(Y_cls)\n",
    "Y_cls.shape"
   ]
  },
  {
   "cell_type": "code",
   "execution_count": 47,
   "id": "79ebe9cf",
   "metadata": {},
   "outputs": [
    {
     "data": {
      "text/plain": [
       "array([0, 1, 1, 0, 1, 1, 1, 0, 1, 1])"
      ]
     },
     "execution_count": 47,
     "metadata": {},
     "output_type": "execute_result"
    }
   ],
   "source": [
    "Y_cls[:10]"
   ]
  },
  {
   "cell_type": "markdown",
   "id": "1a2d3138",
   "metadata": {},
   "source": [
    "## 标准化收益率"
   ]
  },
  {
   "cell_type": "code",
   "execution_count": 11,
   "id": "9e5346f4",
   "metadata": {},
   "outputs": [
    {
     "data": {
      "text/plain": [
       "(0.08304253433929398, 3.092383135172094)"
      ]
     },
     "execution_count": 11,
     "metadata": {},
     "output_type": "execute_result"
    }
   ],
   "source": [
    "np.mean(Y), np.std(Y)"
   ]
  },
  {
   "cell_type": "code",
   "execution_count": 13,
   "id": "922cbe0d",
   "metadata": {},
   "outputs": [
    {
     "data": {
      "text/plain": [
       "array([-1.5487,  0.    ,  3.8362,  0.4219,  0.0717])"
      ]
     },
     "execution_count": 13,
     "metadata": {},
     "output_type": "execute_result"
    }
   ],
   "source": [
    "Y[:5]"
   ]
  },
  {
   "cell_type": "code",
   "execution_count": 12,
   "id": "4817bcc4",
   "metadata": {},
   "outputs": [
    {
     "data": {
      "text/plain": [
       "(9.685825416232422e-18, 1.0)"
      ]
     },
     "execution_count": 12,
     "metadata": {},
     "output_type": "execute_result"
    }
   ],
   "source": [
    "# 标准化收益率标签\n",
    "Y_norm = (Y - np.mean(Y)) / np.std(Y)\n",
    "\n",
    "np.mean(Y_norm), np.std(Y_norm)"
   ]
  },
  {
   "cell_type": "code",
   "execution_count": 14,
   "id": "9d0e3d75",
   "metadata": {},
   "outputs": [
    {
     "data": {
      "text/plain": [
       "array([-0.52766506, -0.0268539 ,  1.21367803,  0.1095781 , -0.00366789])"
      ]
     },
     "execution_count": 14,
     "metadata": {},
     "output_type": "execute_result"
    }
   ],
   "source": [
    "Y_norm[:5]"
   ]
  },
  {
   "cell_type": "markdown",
   "id": "df1b36d9",
   "metadata": {},
   "source": [
    "## 储存数据集"
   ]
  },
  {
   "cell_type": "code",
   "execution_count": 49,
   "id": "3da30ab1",
   "metadata": {},
   "outputs": [],
   "source": [
    "# 储存数据集到本地\n",
    "np.save('X_fe.npy', X)\n",
    "np.save('Y_fe_cls.npy', Y_cls)\n",
    "np.save('Y_fe_norm.npy', Y_norm)\n",
    "np.save('Y_dates.npy', Y_dates)"
   ]
  }
 ],
 "metadata": {
  "kernelspec": {
   "display_name": "Python 3 (ipykernel)",
   "language": "python",
   "name": "python3"
  },
  "language_info": {
   "codemirror_mode": {
    "name": "ipython",
    "version": 3
   },
   "file_extension": ".py",
   "mimetype": "text/x-python",
   "name": "python",
   "nbconvert_exporter": "python",
   "pygments_lexer": "ipython3",
   "version": "3.9.13"
  }
 },
 "nbformat": 4,
 "nbformat_minor": 5
}
